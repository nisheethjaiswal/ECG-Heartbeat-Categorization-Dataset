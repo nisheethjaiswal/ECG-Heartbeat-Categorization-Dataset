{
 "cells": [
  {
   "cell_type": "markdown",
   "id": "f1667d4a",
   "metadata": {},
   "source": [
    "# ECG Heartbeat Categorization - Feature Engineering\n",
    "Feature Creation and Feature Engineering have a huge impact on model performance. Features can be changed or new features can be created from existing features."
   ]
  },
  {
   "cell_type": "markdown",
   "id": "9460b90a",
   "metadata": {},
   "source": [
    "# Imports"
   ]
  },
  {
   "cell_type": "code",
   "execution_count": 28,
   "id": "d9d805ff",
   "metadata": {},
   "outputs": [
    {
     "name": "stdout",
     "output_type": "stream",
     "text": [
      "0.7.0\n"
     ]
    }
   ],
   "source": [
    "# imports\n",
    "import numpy as np\n",
    "from numpy import where\n",
    "from collections import Counter\n",
    "import pandas as pd\n",
    "#!pip install pandas-profiling\n",
    "#import pandas_profiling\n",
    "#from pandas_profiling import ProfileReport\n",
    "import matplotlib.pyplot as plt\n",
    "import seaborn as sns\n",
    "import plotly.express as px\n",
    "#!pip install imbalanced-learn\n",
    "import imblearn\n",
    "print(imblearn.__version__)\n",
    "from imblearn.over_sampling import SMOTE\n",
    "from imblearn.under_sampling import RandomUnderSampler\n",
    "%matplotlib inline"
   ]
  },
  {
   "cell_type": "markdown",
   "id": "1985b4d6",
   "metadata": {},
   "source": [
    "## Load Data"
   ]
  },
  {
   "cell_type": "code",
   "execution_count": 63,
   "id": "f936a27e",
   "metadata": {
    "scrolled": true
   },
   "outputs": [
    {
     "data": {
      "text/html": [
       "<div>\n",
       "<style scoped>\n",
       "    .dataframe tbody tr th:only-of-type {\n",
       "        vertical-align: middle;\n",
       "    }\n",
       "\n",
       "    .dataframe tbody tr th {\n",
       "        vertical-align: top;\n",
       "    }\n",
       "\n",
       "    .dataframe thead th {\n",
       "        text-align: right;\n",
       "    }\n",
       "</style>\n",
       "<table border=\"1\" class=\"dataframe\">\n",
       "  <thead>\n",
       "    <tr style=\"text-align: right;\">\n",
       "      <th></th>\n",
       "      <th>0</th>\n",
       "      <th>1</th>\n",
       "      <th>2</th>\n",
       "      <th>3</th>\n",
       "      <th>4</th>\n",
       "      <th>5</th>\n",
       "      <th>6</th>\n",
       "      <th>7</th>\n",
       "      <th>8</th>\n",
       "      <th>9</th>\n",
       "      <th>...</th>\n",
       "      <th>87543</th>\n",
       "      <th>87544</th>\n",
       "      <th>87545</th>\n",
       "      <th>87546</th>\n",
       "      <th>87547</th>\n",
       "      <th>87548</th>\n",
       "      <th>87549</th>\n",
       "      <th>87550</th>\n",
       "      <th>87551</th>\n",
       "      <th>87552</th>\n",
       "    </tr>\n",
       "  </thead>\n",
       "  <tbody>\n",
       "    <tr>\n",
       "      <th>0</th>\n",
       "      <td>0.960114</td>\n",
       "      <td>1.000000</td>\n",
       "      <td>0.925414</td>\n",
       "      <td>0.967136</td>\n",
       "      <td>0.927461</td>\n",
       "      <td>0.423611</td>\n",
       "      <td>0.716814</td>\n",
       "      <td>0.874214</td>\n",
       "      <td>1.000000</td>\n",
       "      <td>0.985507</td>\n",
       "      <td>...</td>\n",
       "      <td>0.621951</td>\n",
       "      <td>0.799242</td>\n",
       "      <td>0.757235</td>\n",
       "      <td>0.717325</td>\n",
       "      <td>1.000000</td>\n",
       "      <td>0.807018</td>\n",
       "      <td>0.718333</td>\n",
       "      <td>0.906122</td>\n",
       "      <td>0.858228</td>\n",
       "      <td>0.901506</td>\n",
       "    </tr>\n",
       "    <tr>\n",
       "      <th>1</th>\n",
       "      <td>0.863248</td>\n",
       "      <td>0.659459</td>\n",
       "      <td>0.665746</td>\n",
       "      <td>1.000000</td>\n",
       "      <td>1.000000</td>\n",
       "      <td>0.791667</td>\n",
       "      <td>0.539823</td>\n",
       "      <td>0.849057</td>\n",
       "      <td>0.996086</td>\n",
       "      <td>0.880435</td>\n",
       "      <td>...</td>\n",
       "      <td>0.521341</td>\n",
       "      <td>0.515152</td>\n",
       "      <td>0.663987</td>\n",
       "      <td>0.627660</td>\n",
       "      <td>0.405594</td>\n",
       "      <td>0.494737</td>\n",
       "      <td>0.605000</td>\n",
       "      <td>0.624490</td>\n",
       "      <td>0.645570</td>\n",
       "      <td>0.845886</td>\n",
       "    </tr>\n",
       "    <tr>\n",
       "      <th>2</th>\n",
       "      <td>0.461538</td>\n",
       "      <td>0.186486</td>\n",
       "      <td>0.541436</td>\n",
       "      <td>0.830986</td>\n",
       "      <td>0.626943</td>\n",
       "      <td>1.000000</td>\n",
       "      <td>0.283186</td>\n",
       "      <td>0.480084</td>\n",
       "      <td>0.694716</td>\n",
       "      <td>0.518116</td>\n",
       "      <td>...</td>\n",
       "      <td>0.463415</td>\n",
       "      <td>0.545455</td>\n",
       "      <td>0.561093</td>\n",
       "      <td>0.534954</td>\n",
       "      <td>0.440559</td>\n",
       "      <td>0.536842</td>\n",
       "      <td>0.486667</td>\n",
       "      <td>0.595918</td>\n",
       "      <td>0.845570</td>\n",
       "      <td>0.800695</td>\n",
       "    </tr>\n",
       "    <tr>\n",
       "      <th>3</th>\n",
       "      <td>0.196581</td>\n",
       "      <td>0.070270</td>\n",
       "      <td>0.276243</td>\n",
       "      <td>0.586854</td>\n",
       "      <td>0.193437</td>\n",
       "      <td>0.256944</td>\n",
       "      <td>0.129794</td>\n",
       "      <td>0.058700</td>\n",
       "      <td>0.336595</td>\n",
       "      <td>0.213768</td>\n",
       "      <td>...</td>\n",
       "      <td>0.457317</td>\n",
       "      <td>0.553030</td>\n",
       "      <td>0.453376</td>\n",
       "      <td>0.427052</td>\n",
       "      <td>0.405594</td>\n",
       "      <td>0.529825</td>\n",
       "      <td>0.361667</td>\n",
       "      <td>0.575510</td>\n",
       "      <td>0.248101</td>\n",
       "      <td>0.748552</td>\n",
       "    </tr>\n",
       "    <tr>\n",
       "      <th>4</th>\n",
       "      <td>0.094017</td>\n",
       "      <td>0.070270</td>\n",
       "      <td>0.196133</td>\n",
       "      <td>0.356808</td>\n",
       "      <td>0.094991</td>\n",
       "      <td>0.000000</td>\n",
       "      <td>0.064897</td>\n",
       "      <td>0.090147</td>\n",
       "      <td>0.238748</td>\n",
       "      <td>0.126812</td>\n",
       "      <td>...</td>\n",
       "      <td>0.417683</td>\n",
       "      <td>0.526515</td>\n",
       "      <td>0.324759</td>\n",
       "      <td>0.322188</td>\n",
       "      <td>0.405594</td>\n",
       "      <td>0.491228</td>\n",
       "      <td>0.231667</td>\n",
       "      <td>0.530612</td>\n",
       "      <td>0.167089</td>\n",
       "      <td>0.687138</td>\n",
       "    </tr>\n",
       "    <tr>\n",
       "      <th>...</th>\n",
       "      <td>...</td>\n",
       "      <td>...</td>\n",
       "      <td>...</td>\n",
       "      <td>...</td>\n",
       "      <td>...</td>\n",
       "      <td>...</td>\n",
       "      <td>...</td>\n",
       "      <td>...</td>\n",
       "      <td>...</td>\n",
       "      <td>...</td>\n",
       "      <td>...</td>\n",
       "      <td>...</td>\n",
       "      <td>...</td>\n",
       "      <td>...</td>\n",
       "      <td>...</td>\n",
       "      <td>...</td>\n",
       "      <td>...</td>\n",
       "      <td>...</td>\n",
       "      <td>...</td>\n",
       "      <td>...</td>\n",
       "      <td>...</td>\n",
       "    </tr>\n",
       "    <tr>\n",
       "      <th>183</th>\n",
       "      <td>0.000000</td>\n",
       "      <td>0.000000</td>\n",
       "      <td>0.000000</td>\n",
       "      <td>0.000000</td>\n",
       "      <td>0.000000</td>\n",
       "      <td>0.000000</td>\n",
       "      <td>0.000000</td>\n",
       "      <td>0.000000</td>\n",
       "      <td>0.000000</td>\n",
       "      <td>0.000000</td>\n",
       "      <td>...</td>\n",
       "      <td>0.000000</td>\n",
       "      <td>0.000000</td>\n",
       "      <td>0.000000</td>\n",
       "      <td>0.000000</td>\n",
       "      <td>0.000000</td>\n",
       "      <td>0.000000</td>\n",
       "      <td>0.000000</td>\n",
       "      <td>0.000000</td>\n",
       "      <td>0.000000</td>\n",
       "      <td>0.000000</td>\n",
       "    </tr>\n",
       "    <tr>\n",
       "      <th>184</th>\n",
       "      <td>0.000000</td>\n",
       "      <td>0.000000</td>\n",
       "      <td>0.000000</td>\n",
       "      <td>0.000000</td>\n",
       "      <td>0.000000</td>\n",
       "      <td>0.000000</td>\n",
       "      <td>0.000000</td>\n",
       "      <td>0.000000</td>\n",
       "      <td>0.000000</td>\n",
       "      <td>0.000000</td>\n",
       "      <td>...</td>\n",
       "      <td>0.000000</td>\n",
       "      <td>0.000000</td>\n",
       "      <td>0.000000</td>\n",
       "      <td>0.000000</td>\n",
       "      <td>0.000000</td>\n",
       "      <td>0.000000</td>\n",
       "      <td>0.000000</td>\n",
       "      <td>0.000000</td>\n",
       "      <td>0.000000</td>\n",
       "      <td>0.000000</td>\n",
       "    </tr>\n",
       "    <tr>\n",
       "      <th>185</th>\n",
       "      <td>0.000000</td>\n",
       "      <td>0.000000</td>\n",
       "      <td>0.000000</td>\n",
       "      <td>0.000000</td>\n",
       "      <td>0.000000</td>\n",
       "      <td>0.000000</td>\n",
       "      <td>0.000000</td>\n",
       "      <td>0.000000</td>\n",
       "      <td>0.000000</td>\n",
       "      <td>0.000000</td>\n",
       "      <td>...</td>\n",
       "      <td>0.000000</td>\n",
       "      <td>0.000000</td>\n",
       "      <td>0.000000</td>\n",
       "      <td>0.000000</td>\n",
       "      <td>0.000000</td>\n",
       "      <td>0.000000</td>\n",
       "      <td>0.000000</td>\n",
       "      <td>0.000000</td>\n",
       "      <td>0.000000</td>\n",
       "      <td>0.000000</td>\n",
       "    </tr>\n",
       "    <tr>\n",
       "      <th>186</th>\n",
       "      <td>0.000000</td>\n",
       "      <td>0.000000</td>\n",
       "      <td>0.000000</td>\n",
       "      <td>0.000000</td>\n",
       "      <td>0.000000</td>\n",
       "      <td>0.000000</td>\n",
       "      <td>0.000000</td>\n",
       "      <td>0.000000</td>\n",
       "      <td>0.000000</td>\n",
       "      <td>0.000000</td>\n",
       "      <td>...</td>\n",
       "      <td>0.000000</td>\n",
       "      <td>0.000000</td>\n",
       "      <td>0.000000</td>\n",
       "      <td>0.000000</td>\n",
       "      <td>0.000000</td>\n",
       "      <td>0.000000</td>\n",
       "      <td>0.000000</td>\n",
       "      <td>0.000000</td>\n",
       "      <td>0.000000</td>\n",
       "      <td>0.000000</td>\n",
       "    </tr>\n",
       "    <tr>\n",
       "      <th>label</th>\n",
       "      <td>0.000000</td>\n",
       "      <td>0.000000</td>\n",
       "      <td>0.000000</td>\n",
       "      <td>0.000000</td>\n",
       "      <td>0.000000</td>\n",
       "      <td>0.000000</td>\n",
       "      <td>0.000000</td>\n",
       "      <td>0.000000</td>\n",
       "      <td>0.000000</td>\n",
       "      <td>0.000000</td>\n",
       "      <td>...</td>\n",
       "      <td>4.000000</td>\n",
       "      <td>4.000000</td>\n",
       "      <td>4.000000</td>\n",
       "      <td>4.000000</td>\n",
       "      <td>4.000000</td>\n",
       "      <td>4.000000</td>\n",
       "      <td>4.000000</td>\n",
       "      <td>4.000000</td>\n",
       "      <td>4.000000</td>\n",
       "      <td>4.000000</td>\n",
       "    </tr>\n",
       "  </tbody>\n",
       "</table>\n",
       "<p>188 rows × 87553 columns</p>\n",
       "</div>"
      ],
      "text/plain": [
       "          0         1         2         3         4         5         6      \\\n",
       "0      0.960114  1.000000  0.925414  0.967136  0.927461  0.423611  0.716814   \n",
       "1      0.863248  0.659459  0.665746  1.000000  1.000000  0.791667  0.539823   \n",
       "2      0.461538  0.186486  0.541436  0.830986  0.626943  1.000000  0.283186   \n",
       "3      0.196581  0.070270  0.276243  0.586854  0.193437  0.256944  0.129794   \n",
       "4      0.094017  0.070270  0.196133  0.356808  0.094991  0.000000  0.064897   \n",
       "...         ...       ...       ...       ...       ...       ...       ...   \n",
       "183    0.000000  0.000000  0.000000  0.000000  0.000000  0.000000  0.000000   \n",
       "184    0.000000  0.000000  0.000000  0.000000  0.000000  0.000000  0.000000   \n",
       "185    0.000000  0.000000  0.000000  0.000000  0.000000  0.000000  0.000000   \n",
       "186    0.000000  0.000000  0.000000  0.000000  0.000000  0.000000  0.000000   \n",
       "label  0.000000  0.000000  0.000000  0.000000  0.000000  0.000000  0.000000   \n",
       "\n",
       "          7         8         9      ...     87543     87544     87545  \\\n",
       "0      0.874214  1.000000  0.985507  ...  0.621951  0.799242  0.757235   \n",
       "1      0.849057  0.996086  0.880435  ...  0.521341  0.515152  0.663987   \n",
       "2      0.480084  0.694716  0.518116  ...  0.463415  0.545455  0.561093   \n",
       "3      0.058700  0.336595  0.213768  ...  0.457317  0.553030  0.453376   \n",
       "4      0.090147  0.238748  0.126812  ...  0.417683  0.526515  0.324759   \n",
       "...         ...       ...       ...  ...       ...       ...       ...   \n",
       "183    0.000000  0.000000  0.000000  ...  0.000000  0.000000  0.000000   \n",
       "184    0.000000  0.000000  0.000000  ...  0.000000  0.000000  0.000000   \n",
       "185    0.000000  0.000000  0.000000  ...  0.000000  0.000000  0.000000   \n",
       "186    0.000000  0.000000  0.000000  ...  0.000000  0.000000  0.000000   \n",
       "label  0.000000  0.000000  0.000000  ...  4.000000  4.000000  4.000000   \n",
       "\n",
       "          87546     87547     87548     87549     87550     87551     87552  \n",
       "0      0.717325  1.000000  0.807018  0.718333  0.906122  0.858228  0.901506  \n",
       "1      0.627660  0.405594  0.494737  0.605000  0.624490  0.645570  0.845886  \n",
       "2      0.534954  0.440559  0.536842  0.486667  0.595918  0.845570  0.800695  \n",
       "3      0.427052  0.405594  0.529825  0.361667  0.575510  0.248101  0.748552  \n",
       "4      0.322188  0.405594  0.491228  0.231667  0.530612  0.167089  0.687138  \n",
       "...         ...       ...       ...       ...       ...       ...       ...  \n",
       "183    0.000000  0.000000  0.000000  0.000000  0.000000  0.000000  0.000000  \n",
       "184    0.000000  0.000000  0.000000  0.000000  0.000000  0.000000  0.000000  \n",
       "185    0.000000  0.000000  0.000000  0.000000  0.000000  0.000000  0.000000  \n",
       "186    0.000000  0.000000  0.000000  0.000000  0.000000  0.000000  0.000000  \n",
       "label  4.000000  4.000000  4.000000  4.000000  4.000000  4.000000  4.000000  \n",
       "\n",
       "[188 rows x 87553 columns]"
      ]
     },
     "execution_count": 63,
     "metadata": {},
     "output_type": "execute_result"
    }
   ],
   "source": [
    "# Sampled dataset\n",
    "data_ecg = pd.read_csv('data_ecg.csv')\n",
    "data_ecg.T"
   ]
  },
  {
   "cell_type": "markdown",
   "id": "dd515f8a",
   "metadata": {},
   "source": [
    "## Split features and targets and make copy of df"
   ]
  },
  {
   "cell_type": "code",
   "execution_count": 64,
   "id": "adefc9d4",
   "metadata": {},
   "outputs": [],
   "source": [
    "#Split features and targets and make copy of df\n",
    "X = data_ecg.drop('label',axis=1).copy() \n",
    "y = data_ecg['label'].copy()"
   ]
  },
  {
   "cell_type": "code",
   "execution_count": 65,
   "id": "7c90bd54",
   "metadata": {},
   "outputs": [
    {
     "name": "stdout",
     "output_type": "stream",
     "text": [
      "(87553, 187)\n"
     ]
    }
   ],
   "source": [
    "#Check the shape of the features and targets\n",
    "print(X.shape)"
   ]
  },
  {
   "cell_type": "code",
   "execution_count": 55,
   "id": "2254751c",
   "metadata": {},
   "outputs": [
    {
     "data": {
      "text/html": [
       "<div>\n",
       "<style scoped>\n",
       "    .dataframe tbody tr th:only-of-type {\n",
       "        vertical-align: middle;\n",
       "    }\n",
       "\n",
       "    .dataframe tbody tr th {\n",
       "        vertical-align: top;\n",
       "    }\n",
       "\n",
       "    .dataframe thead th {\n",
       "        text-align: right;\n",
       "    }\n",
       "</style>\n",
       "<table border=\"1\" class=\"dataframe\">\n",
       "  <thead>\n",
       "    <tr style=\"text-align: right;\">\n",
       "      <th></th>\n",
       "      <th>count</th>\n",
       "      <th>mean</th>\n",
       "      <th>std</th>\n",
       "      <th>min</th>\n",
       "      <th>25%</th>\n",
       "      <th>50%</th>\n",
       "      <th>75%</th>\n",
       "      <th>max</th>\n",
       "    </tr>\n",
       "  </thead>\n",
       "  <tbody>\n",
       "    <tr>\n",
       "      <th>0</th>\n",
       "      <td>87553.0</td>\n",
       "      <td>0.890359</td>\n",
       "      <td>0.240910</td>\n",
       "      <td>0.0</td>\n",
       "      <td>0.921922</td>\n",
       "      <td>0.991342</td>\n",
       "      <td>1.000000</td>\n",
       "      <td>1.0</td>\n",
       "    </tr>\n",
       "    <tr>\n",
       "      <th>1</th>\n",
       "      <td>87553.0</td>\n",
       "      <td>0.758158</td>\n",
       "      <td>0.221814</td>\n",
       "      <td>0.0</td>\n",
       "      <td>0.682482</td>\n",
       "      <td>0.826007</td>\n",
       "      <td>0.910506</td>\n",
       "      <td>1.0</td>\n",
       "    </tr>\n",
       "    <tr>\n",
       "      <th>2</th>\n",
       "      <td>87553.0</td>\n",
       "      <td>0.423969</td>\n",
       "      <td>0.227305</td>\n",
       "      <td>0.0</td>\n",
       "      <td>0.250965</td>\n",
       "      <td>0.429467</td>\n",
       "      <td>0.578767</td>\n",
       "      <td>1.0</td>\n",
       "    </tr>\n",
       "    <tr>\n",
       "      <th>3</th>\n",
       "      <td>87553.0</td>\n",
       "      <td>0.219104</td>\n",
       "      <td>0.206880</td>\n",
       "      <td>0.0</td>\n",
       "      <td>0.048458</td>\n",
       "      <td>0.165992</td>\n",
       "      <td>0.341727</td>\n",
       "      <td>1.0</td>\n",
       "    </tr>\n",
       "    <tr>\n",
       "      <th>4</th>\n",
       "      <td>87553.0</td>\n",
       "      <td>0.201127</td>\n",
       "      <td>0.177058</td>\n",
       "      <td>0.0</td>\n",
       "      <td>0.082329</td>\n",
       "      <td>0.147870</td>\n",
       "      <td>0.258993</td>\n",
       "      <td>1.0</td>\n",
       "    </tr>\n",
       "    <tr>\n",
       "      <th>...</th>\n",
       "      <td>...</td>\n",
       "      <td>...</td>\n",
       "      <td>...</td>\n",
       "      <td>...</td>\n",
       "      <td>...</td>\n",
       "      <td>...</td>\n",
       "      <td>...</td>\n",
       "      <td>...</td>\n",
       "    </tr>\n",
       "    <tr>\n",
       "      <th>182</th>\n",
       "      <td>87553.0</td>\n",
       "      <td>0.003681</td>\n",
       "      <td>0.037193</td>\n",
       "      <td>0.0</td>\n",
       "      <td>0.000000</td>\n",
       "      <td>0.000000</td>\n",
       "      <td>0.000000</td>\n",
       "      <td>1.0</td>\n",
       "    </tr>\n",
       "    <tr>\n",
       "      <th>183</th>\n",
       "      <td>87553.0</td>\n",
       "      <td>0.003471</td>\n",
       "      <td>0.036255</td>\n",
       "      <td>0.0</td>\n",
       "      <td>0.000000</td>\n",
       "      <td>0.000000</td>\n",
       "      <td>0.000000</td>\n",
       "      <td>1.0</td>\n",
       "    </tr>\n",
       "    <tr>\n",
       "      <th>184</th>\n",
       "      <td>87553.0</td>\n",
       "      <td>0.003221</td>\n",
       "      <td>0.034790</td>\n",
       "      <td>0.0</td>\n",
       "      <td>0.000000</td>\n",
       "      <td>0.000000</td>\n",
       "      <td>0.000000</td>\n",
       "      <td>1.0</td>\n",
       "    </tr>\n",
       "    <tr>\n",
       "      <th>185</th>\n",
       "      <td>87553.0</td>\n",
       "      <td>0.002945</td>\n",
       "      <td>0.032865</td>\n",
       "      <td>0.0</td>\n",
       "      <td>0.000000</td>\n",
       "      <td>0.000000</td>\n",
       "      <td>0.000000</td>\n",
       "      <td>1.0</td>\n",
       "    </tr>\n",
       "    <tr>\n",
       "      <th>186</th>\n",
       "      <td>87553.0</td>\n",
       "      <td>0.002807</td>\n",
       "      <td>0.031924</td>\n",
       "      <td>0.0</td>\n",
       "      <td>0.000000</td>\n",
       "      <td>0.000000</td>\n",
       "      <td>0.000000</td>\n",
       "      <td>1.0</td>\n",
       "    </tr>\n",
       "  </tbody>\n",
       "</table>\n",
       "<p>187 rows × 8 columns</p>\n",
       "</div>"
      ],
      "text/plain": [
       "       count      mean       std  min       25%       50%       75%  max\n",
       "0    87553.0  0.890359  0.240910  0.0  0.921922  0.991342  1.000000  1.0\n",
       "1    87553.0  0.758158  0.221814  0.0  0.682482  0.826007  0.910506  1.0\n",
       "2    87553.0  0.423969  0.227305  0.0  0.250965  0.429467  0.578767  1.0\n",
       "3    87553.0  0.219104  0.206880  0.0  0.048458  0.165992  0.341727  1.0\n",
       "4    87553.0  0.201127  0.177058  0.0  0.082329  0.147870  0.258993  1.0\n",
       "..       ...       ...       ...  ...       ...       ...       ...  ...\n",
       "182  87553.0  0.003681  0.037193  0.0  0.000000  0.000000  0.000000  1.0\n",
       "183  87553.0  0.003471  0.036255  0.0  0.000000  0.000000  0.000000  1.0\n",
       "184  87553.0  0.003221  0.034790  0.0  0.000000  0.000000  0.000000  1.0\n",
       "185  87553.0  0.002945  0.032865  0.0  0.000000  0.000000  0.000000  1.0\n",
       "186  87553.0  0.002807  0.031924  0.0  0.000000  0.000000  0.000000  1.0\n",
       "\n",
       "[187 rows x 8 columns]"
      ]
     },
     "execution_count": 55,
     "metadata": {},
     "output_type": "execute_result"
    }
   ],
   "source": [
    "X.describe().T"
   ]
  },
  {
   "cell_type": "code",
   "execution_count": 56,
   "id": "bce6ef22",
   "metadata": {},
   "outputs": [
    {
     "name": "stdout",
     "output_type": "stream",
     "text": [
      "(87553,)\n"
     ]
    }
   ],
   "source": [
    "print(y.shape)"
   ]
  },
  {
   "cell_type": "code",
   "execution_count": 57,
   "id": "dff09c1a",
   "metadata": {},
   "outputs": [
    {
     "data": {
      "text/plain": [
       "count    87553.000000\n",
       "mean         0.473382\n",
       "std          1.143190\n",
       "min          0.000000\n",
       "25%          0.000000\n",
       "50%          0.000000\n",
       "75%          0.000000\n",
       "max          4.000000\n",
       "Name: label, dtype: float64"
      ]
     },
     "execution_count": 57,
     "metadata": {},
     "output_type": "execute_result"
    }
   ],
   "source": [
    "y.describe().T"
   ]
  },
  {
   "cell_type": "markdown",
   "id": "acf29cd1",
   "metadata": {},
   "source": [
    "## There are Five Categories or Labels\n",
    "\n",
    "* 0: N - Normal\n",
    "* 1: S - Atrial premature\n",
    "* 2: V - Premature ventricular contraction\n",
    "* 3: F - Fusion of ventricular and normal\n",
    "* 4: Q - Paced Unclassifiable "
   ]
  },
  {
   "cell_type": "markdown",
   "id": "e2c02a45",
   "metadata": {},
   "source": [
    "## Label Mapping"
   ]
  },
  {
   "cell_type": "code",
   "execution_count": 66,
   "id": "e88a9ac4",
   "metadata": {},
   "outputs": [],
   "source": [
    "# For class label mapping\n",
    "\n",
    "class_label = {\n",
    "    0: 'N - Normal',\n",
    "    1: 'S - Atrial premature',\n",
    "    2: 'V - Premature ventricular contraction',\n",
    "    3: 'F - Fusion of ventricular and normal',\n",
    "    4: 'Q - Paced Unclassifiable'\n",
    "}"
   ]
  },
  {
   "cell_type": "code",
   "execution_count": 67,
   "id": "d0cf7a1d",
   "metadata": {},
   "outputs": [
    {
     "data": {
      "text/plain": [
       "0.0    72470\n",
       "4.0     6431\n",
       "2.0     5788\n",
       "1.0     2223\n",
       "3.0      641\n",
       "Name: label, dtype: int64"
      ]
     },
     "execution_count": 67,
     "metadata": {},
     "output_type": "execute_result"
    }
   ],
   "source": [
    "#Check for imbalanced data\n",
    "y.value_counts()"
   ]
  },
  {
   "cell_type": "code",
   "execution_count": 68,
   "id": "071287fa",
   "metadata": {
    "scrolled": true
   },
   "outputs": [
    {
     "data": {
      "text/plain": [
       "<AxesSubplot:xlabel='label', ylabel='count'>"
      ]
     },
     "execution_count": 68,
     "metadata": {},
     "output_type": "execute_result"
    },
    {
     "data": {
      "image/png": "[encoded data removed]",
      "text/plain": [
       "<Figure size 432x288 with 1 Axes>"
      ]
     },
     "metadata": {
      "needs_background": "light"
     },
     "output_type": "display_data"
    }
   ],
   "source": [
    "#!pip install seaborn\n",
    "import seaborn as sns\n",
    "\n",
    "#Plot the targets distribution\n",
    "sns.countplot(x='label', data=data_ecg)"
   ]
  },
  {
   "cell_type": "markdown",
   "id": "ba0c7a79",
   "metadata": {},
   "source": [
    "## Scatter plot of labels"
   ]
  },
  {
   "cell_type": "code",
   "execution_count": 11,
   "id": "d6488687",
   "metadata": {},
   "outputs": [
    {
     "data": {
      "text/plain": [
       "(87553, 187)"
      ]
     },
     "execution_count": 11,
     "metadata": {},
     "output_type": "execute_result"
    }
   ],
   "source": [
    "X = np.array(X)\n",
    "X.shape"
   ]
  },
  {
   "cell_type": "code",
   "execution_count": 12,
   "id": "c303ee7a",
   "metadata": {},
   "outputs": [
    {
     "name": "stdout",
     "output_type": "stream",
     "text": [
      "Counter({0.0: 72470, 4.0: 6431, 2.0: 5788, 1.0: 2223, 3.0: 641})\n"
     ]
    }
   ],
   "source": [
    "from collections import Counter\n",
    "counter = Counter(y)\n",
    "print(counter)"
   ]
  },
  {
   "cell_type": "code",
   "execution_count": 13,
   "id": "0faa58b3",
   "metadata": {
    "scrolled": true
   },
   "outputs": [
    {
     "data": {
      "image/png": "[encoded data removed]",
      "text/plain": [
       "<Figure size 432x288 with 1 Axes>"
      ]
     },
     "metadata": {
      "needs_background": "light"
     },
     "output_type": "display_data"
    }
   ],
   "source": [
    "from numpy import where\n",
    "from matplotlib import pyplot\n",
    "\n",
    "for label, _ in counter.items():\n",
    "    row_ix = where(y == label)[0]\n",
    "    pyplot.scatter(X[row_ix, 0], X[row_ix, 1], label=str(label))\n",
    "pyplot.legend()\n",
    "pyplot.show()"
   ]
  },
  {
   "cell_type": "markdown",
   "id": "66c3ca4c",
   "metadata": {},
   "source": [
    "## Dealing with Imbalanced Data\n",
    "#### From viewing a previous plot and the value counts we can see that we have an imblanced dataset"
   ]
  },
  {
   "cell_type": "code",
   "execution_count": 69,
   "id": "e70128ad",
   "metadata": {},
   "outputs": [
    {
     "name": "stdout",
     "output_type": "stream",
     "text": [
      "Class=0, n=72470 (82.773%)\n",
      "Class=1, n=2223 (2.539%)\n",
      "Class=2, n=5788 (6.611%)\n",
      "Class=3, n=641 (0.732%)\n",
      "Class=4, n=6431 (7.345%)\n"
     ]
    },
    {
     "data": {
      "image/png": "[encoded data removed]",
      "text/plain": [
       "<Figure size 432x288 with 1 Axes>"
      ]
     },
     "metadata": {
      "needs_background": "light"
     },
     "output_type": "display_data"
    }
   ],
   "source": [
    "#from imblearn.over_sampling import SMOTE\n",
    "from sklearn.preprocessing import LabelEncoder\n",
    "\n",
    "# label encode the target variable\n",
    "y = LabelEncoder().fit_transform(y)\n",
    "\n",
    "# summarize distribution\n",
    "counter = Counter(y)\n",
    "for k,v in counter.items():\n",
    "    per = v / len(y) * 100\n",
    "    print('Class=%d, n=%d (%.3f%%)' % (k, v, per))\n",
    "# plot the distribution\n",
    "pyplot.bar(counter.keys(), counter.values())\n",
    "pyplot.show()"
   ]
  },
  {
   "cell_type": "markdown",
   "id": "6c18ee68",
   "metadata": {},
   "source": [
    "## Random Under Sampling"
   ]
  },
  {
   "cell_type": "code",
   "execution_count": 70,
   "id": "88f08d18",
   "metadata": {},
   "outputs": [
    {
     "name": "stdout",
     "output_type": "stream",
     "text": [
      "Counter({0: 7000, 4: 6431, 2: 5788, 1: 2223, 3: 641})\n",
      "Class=0, n=7000 (31.699%)\n",
      "Class=1, n=2223 (10.067%)\n",
      "Class=2, n=5788 (26.210%)\n",
      "Class=3, n=641 (2.903%)\n",
      "Class=4, n=6431 (29.122%)\n"
     ]
    },
    {
     "data": {
      "image/png": "[encoded data removed]",
      "text/plain": [
       "<Figure size 432x288 with 1 Axes>"
      ]
     },
     "metadata": {
      "needs_background": "light"
     },
     "output_type": "display_data"
    }
   ],
   "source": [
    "from imblearn.under_sampling import RandomUnderSampler\n",
    "\n",
    "# label encode the target variable\n",
    "y = LabelEncoder().fit_transform(y)\n",
    "\n",
    "# define undersample strategy\n",
    "undersample = RandomUnderSampler(sampling_strategy= {0:7000})\n",
    "\n",
    "# transform the dataset\n",
    "X, y = undersample.fit_resample(X, y)\n",
    "\n",
    "# summarize class distribution\n",
    "print(Counter(y))\n",
    "\n",
    "\n",
    "\n",
    "# summarize distribution\n",
    "\n",
    "counter = Counter(y)\n",
    "for k,v in counter.items():\n",
    "    per = v / len(y) * 100\n",
    "    print('Class=%d, n=%d (%.3f%%)' % (k, v, per))\n",
    "# plot the distribution\n",
    "pyplot.bar(counter.keys(), counter.values())\n",
    "pyplot.show()"
   ]
  },
  {
   "cell_type": "markdown",
   "id": "d9db71cf",
   "metadata": {},
   "source": [
    "### Using the Default SMOTE Strategy to oversample classes to the number of examples in the majority class"
   ]
  },
  {
   "cell_type": "code",
   "execution_count": 71,
   "id": "4b0684a8",
   "metadata": {
    "scrolled": true
   },
   "outputs": [
    {
     "name": "stdout",
     "output_type": "stream",
     "text": [
      "Class=0, n=7000 (20.000%)\n",
      "Class=1, n=7000 (20.000%)\n",
      "Class=2, n=7000 (20.000%)\n",
      "Class=3, n=7000 (20.000%)\n",
      "Class=4, n=7000 (20.000%)\n"
     ]
    },
    {
     "data": {
      "image/png": "[encoded data removed]",
      "text/plain": [
       "<Figure size 432x288 with 1 Axes>"
      ]
     },
     "metadata": {
      "needs_background": "light"
     },
     "output_type": "display_data"
    }
   ],
   "source": [
    "#Default SMOTE Strategy to oversample all classes to the number of examples in the majority class\n",
    "\n",
    "from imblearn.over_sampling import SMOTE\n",
    "\n",
    "# label encode the target variable\n",
    "y = LabelEncoder().fit_transform(y)\n",
    "\n",
    "# transform the dataset\n",
    "oversample = SMOTE()\n",
    "X, y = oversample.fit_resample(X, y)\n",
    "\n",
    "# summarize distribution\n",
    "counter = Counter(y)\n",
    "for k,v in counter.items():\n",
    "    per = v / len(y) * 100\n",
    "    print('Class=%d, n=%d (%.3f%%)' % (k, v, per))\n",
    "# plot the distribution\n",
    "pyplot.bar(counter.keys(), counter.values())\n",
    "pyplot.show()"
   ]
  },
  {
   "cell_type": "code",
   "execution_count": null,
   "id": "587fc2e9",
   "metadata": {},
   "outputs": [],
   "source": []
  },
  {
   "cell_type": "markdown",
   "id": "548f324e",
   "metadata": {},
   "source": [
    "## Train -Test Split and PCA"
   ]
  },
  {
   "cell_type": "markdown",
   "id": "0fb42911",
   "metadata": {},
   "source": [
    "#### Scaling / Normalizing / Centering\n",
    "Note: Dataset is already scaled between 0 and 1 - may want to experiment here\n",
    "\n",
    "Note: Fitting must be done on the training data to avoid 'leaking' from test data."
   ]
  },
  {
   "cell_type": "code",
   "execution_count": 72,
   "id": "2e15fbdd",
   "metadata": {},
   "outputs": [],
   "source": [
    "# Using 90% for training and 10% for testing\n",
    "from sklearn.model_selection import train_test_split\n",
    "\n",
    "X_train,X_test, y_train,y_test = train_test_split(X,y,train_size=0.9,random_state=0)\n",
    "X_train = X_train.astype('float32')\n",
    "X_test = X_test.astype('float32')"
   ]
  },
  {
   "cell_type": "code",
   "execution_count": 73,
   "id": "ec317212",
   "metadata": {},
   "outputs": [
    {
     "data": {
      "text/plain": [
       "(31500, 187)"
      ]
     },
     "execution_count": 73,
     "metadata": {},
     "output_type": "execute_result"
    }
   ],
   "source": [
    "X_train.shape"
   ]
  },
  {
   "cell_type": "code",
   "execution_count": 74,
   "id": "716ac9b0",
   "metadata": {},
   "outputs": [
    {
     "data": {
      "text/plain": [
       "(3500, 187)"
      ]
     },
     "execution_count": 74,
     "metadata": {},
     "output_type": "execute_result"
    }
   ],
   "source": [
    "X_test.shape"
   ]
  },
  {
   "cell_type": "markdown",
   "id": "59c520a0",
   "metadata": {},
   "source": [
    "## PCA\n",
    "The code below has .95 for the number of components parameter. Scikit-learn will choose the minimum number of principal components required to retain 95% of the variance."
   ]
  },
  {
   "cell_type": "code",
   "execution_count": 75,
   "id": "bab5bb83",
   "metadata": {},
   "outputs": [],
   "source": [
    "from sklearn.decomposition import PCA\n",
    "\n",
    "#Make an instance of the Model\n",
    "pca = PCA(.95)"
   ]
  },
  {
   "cell_type": "code",
   "execution_count": 76,
   "id": "3f465363",
   "metadata": {},
   "outputs": [
    {
     "data": {
      "text/plain": [
       "PCA(n_components=0.95)"
      ]
     },
     "execution_count": 76,
     "metadata": {},
     "output_type": "execute_result"
    }
   ],
   "source": [
    "#Fit PCA on training set\n",
    "pca.fit(X_train)"
   ]
  },
  {
   "cell_type": "markdown",
   "id": "f2929825",
   "metadata": {},
   "source": [
    "### Display the number of componenets chosen from PCA"
   ]
  },
  {
   "cell_type": "code",
   "execution_count": 77,
   "id": "0df82f3a",
   "metadata": {},
   "outputs": [
    {
     "data": {
      "text/plain": [
       "29"
      ]
     },
     "execution_count": 77,
     "metadata": {},
     "output_type": "execute_result"
    }
   ],
   "source": [
    "pca.n_components_"
   ]
  },
  {
   "cell_type": "markdown",
   "id": "42542f85",
   "metadata": {},
   "source": [
    "### Apply the mapping (transform) to both the training set and the test set."
   ]
  },
  {
   "cell_type": "code",
   "execution_count": 78,
   "id": "cb1cc440",
   "metadata": {},
   "outputs": [],
   "source": [
    "X_train = pca.transform(X_train)\n",
    "X_test = pca.transform(X_test)"
   ]
  },
  {
   "cell_type": "code",
   "execution_count": 79,
   "id": "2f80e350",
   "metadata": {},
   "outputs": [
    {
     "data": {
      "text/plain": [
       "(3500, 29)"
      ]
     },
     "execution_count": 79,
     "metadata": {},
     "output_type": "execute_result"
    }
   ],
   "source": [
    "X_test.shape"
   ]
  },
  {
   "cell_type": "code",
   "execution_count": 80,
   "id": "97d764a0",
   "metadata": {},
   "outputs": [
    {
     "data": {
      "text/plain": [
       "(31500, 29)"
      ]
     },
     "execution_count": 80,
     "metadata": {},
     "output_type": "execute_result"
    }
   ],
   "source": [
    "X_train.shape"
   ]
  },
  {
   "cell_type": "code",
   "execution_count": null,
   "id": "323c0d00",
   "metadata": {},
   "outputs": [],
   "source": []
  }
 ],
 "metadata": {
  "kernelspec": {
   "display_name": "Python 3",
   "language": "python",
   "name": "python3"
  },
  "language_info": {
   "codemirror_mode": {
    "name": "ipython",
    "version": 3
   },
   "file_extension": ".py",
   "mimetype": "text/x-python",
   "name": "python",
   "nbconvert_exporter": "python",
   "pygments_lexer": "ipython3",
   "version": "3.7.4"
  }
 },
 "nbformat": 4,
 "nbformat_minor": 5
}
