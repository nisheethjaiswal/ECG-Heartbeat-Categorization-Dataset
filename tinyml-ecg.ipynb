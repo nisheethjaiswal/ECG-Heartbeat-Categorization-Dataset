{
 "cells": [
  {
   "cell_type": "markdown",
   "metadata": {
    "papermill": {
     "duration": 0.017412,
     "end_time": "2021-01-10T14:31:26.935147",
     "exception": false,
     "start_time": "2021-01-10T14:31:26.917735",
     "status": "completed"
    },
    "tags": []
   },
   "source": [
    "# TinyML ECG Classification"
   ]
  },
  {
   "cell_type": "code",
   "execution_count": 1,
   "metadata": {
    "execution": {
     "iopub.execute_input": "2021-01-10T14:31:26.974405Z",
     "iopub.status.busy": "2021-01-10T14:31:26.973697Z",
     "iopub.status.idle": "2021-01-10T14:31:26.976216Z",
     "shell.execute_reply": "2021-01-10T14:31:26.976853Z"
    },
    "papermill": {
     "duration": 0.02497,
     "end_time": "2021-01-10T14:31:26.977036",
     "exception": false,
     "start_time": "2021-01-10T14:31:26.952066",
     "status": "completed"
    },
    "tags": []
   },
   "outputs": [],
   "source": [
    "import numpy as np \n",
    "import pandas as pd \n",
    "import matplotlib.pyplot as plt"
   ]
  },
  {
   "cell_type": "markdown",
   "metadata": {
    "papermill": {
     "duration": 0.016844,
     "end_time": "2021-01-10T14:31:27.011311",
     "exception": false,
     "start_time": "2021-01-10T14:31:26.994467",
     "status": "completed"
    },
    "tags": []
   },
   "source": [
    "## Read Dataset"
   ]
  },
  {
   "cell_type": "code",
   "execution_count": 2,
   "metadata": {
    "_cell_guid": "79c7e3d0-c299-4dcb-8224-4455121ee9b0",
    "_uuid": "d629ff2d2480ee46fbb7e2d37f6b5fab8052498a",
    "execution": {
     "iopub.execute_input": "2021-01-10T14:31:27.048050Z",
     "iopub.status.busy": "2021-01-10T14:31:27.047374Z",
     "iopub.status.idle": "2021-01-10T14:31:40.544398Z",
     "shell.execute_reply": "2021-01-10T14:31:40.543768Z"
    },
    "papermill": {
     "duration": 13.516594,
     "end_time": "2021-01-10T14:31:40.544520",
     "exception": false,
     "start_time": "2021-01-10T14:31:27.027926",
     "status": "completed"
    },
    "tags": []
   },
   "outputs": [
    {
     "data": {
      "text/html": [
       "<div>\n",
       "<style scoped>\n",
       "    .dataframe tbody tr th:only-of-type {\n",
       "        vertical-align: middle;\n",
       "    }\n",
       "\n",
       "    .dataframe tbody tr th {\n",
       "        vertical-align: top;\n",
       "    }\n",
       "\n",
       "    .dataframe thead th {\n",
       "        text-align: right;\n",
       "    }\n",
       "</style>\n",
       "<table border=\"1\" class=\"dataframe\">\n",
       "  <thead>\n",
       "    <tr style=\"text-align: right;\">\n",
       "      <th></th>\n",
       "      <th>0</th>\n",
       "      <th>1</th>\n",
       "      <th>2</th>\n",
       "      <th>3</th>\n",
       "      <th>4</th>\n",
       "      <th>5</th>\n",
       "      <th>6</th>\n",
       "      <th>7</th>\n",
       "      <th>8</th>\n",
       "      <th>9</th>\n",
       "      <th>...</th>\n",
       "      <th>178</th>\n",
       "      <th>179</th>\n",
       "      <th>180</th>\n",
       "      <th>181</th>\n",
       "      <th>182</th>\n",
       "      <th>183</th>\n",
       "      <th>184</th>\n",
       "      <th>185</th>\n",
       "      <th>186</th>\n",
       "      <th>187</th>\n",
       "    </tr>\n",
       "  </thead>\n",
       "  <tbody>\n",
       "    <tr>\n",
       "      <th>0</th>\n",
       "      <td>0.977941</td>\n",
       "      <td>0.926471</td>\n",
       "      <td>0.681373</td>\n",
       "      <td>0.245098</td>\n",
       "      <td>0.154412</td>\n",
       "      <td>0.191176</td>\n",
       "      <td>0.151961</td>\n",
       "      <td>0.085784</td>\n",
       "      <td>0.058824</td>\n",
       "      <td>0.049020</td>\n",
       "      <td>...</td>\n",
       "      <td>0.0</td>\n",
       "      <td>0.0</td>\n",
       "      <td>0.0</td>\n",
       "      <td>0.0</td>\n",
       "      <td>0.0</td>\n",
       "      <td>0.0</td>\n",
       "      <td>0.0</td>\n",
       "      <td>0.0</td>\n",
       "      <td>0.0</td>\n",
       "      <td>0.0</td>\n",
       "    </tr>\n",
       "    <tr>\n",
       "      <th>1</th>\n",
       "      <td>0.960114</td>\n",
       "      <td>0.863248</td>\n",
       "      <td>0.461538</td>\n",
       "      <td>0.196581</td>\n",
       "      <td>0.094017</td>\n",
       "      <td>0.125356</td>\n",
       "      <td>0.099715</td>\n",
       "      <td>0.088319</td>\n",
       "      <td>0.074074</td>\n",
       "      <td>0.082621</td>\n",
       "      <td>...</td>\n",
       "      <td>0.0</td>\n",
       "      <td>0.0</td>\n",
       "      <td>0.0</td>\n",
       "      <td>0.0</td>\n",
       "      <td>0.0</td>\n",
       "      <td>0.0</td>\n",
       "      <td>0.0</td>\n",
       "      <td>0.0</td>\n",
       "      <td>0.0</td>\n",
       "      <td>0.0</td>\n",
       "    </tr>\n",
       "    <tr>\n",
       "      <th>2</th>\n",
       "      <td>1.000000</td>\n",
       "      <td>0.659459</td>\n",
       "      <td>0.186486</td>\n",
       "      <td>0.070270</td>\n",
       "      <td>0.070270</td>\n",
       "      <td>0.059459</td>\n",
       "      <td>0.056757</td>\n",
       "      <td>0.043243</td>\n",
       "      <td>0.054054</td>\n",
       "      <td>0.045946</td>\n",
       "      <td>...</td>\n",
       "      <td>0.0</td>\n",
       "      <td>0.0</td>\n",
       "      <td>0.0</td>\n",
       "      <td>0.0</td>\n",
       "      <td>0.0</td>\n",
       "      <td>0.0</td>\n",
       "      <td>0.0</td>\n",
       "      <td>0.0</td>\n",
       "      <td>0.0</td>\n",
       "      <td>0.0</td>\n",
       "    </tr>\n",
       "    <tr>\n",
       "      <th>3</th>\n",
       "      <td>0.925414</td>\n",
       "      <td>0.665746</td>\n",
       "      <td>0.541436</td>\n",
       "      <td>0.276243</td>\n",
       "      <td>0.196133</td>\n",
       "      <td>0.077348</td>\n",
       "      <td>0.071823</td>\n",
       "      <td>0.060773</td>\n",
       "      <td>0.066298</td>\n",
       "      <td>0.058011</td>\n",
       "      <td>...</td>\n",
       "      <td>0.0</td>\n",
       "      <td>0.0</td>\n",
       "      <td>0.0</td>\n",
       "      <td>0.0</td>\n",
       "      <td>0.0</td>\n",
       "      <td>0.0</td>\n",
       "      <td>0.0</td>\n",
       "      <td>0.0</td>\n",
       "      <td>0.0</td>\n",
       "      <td>0.0</td>\n",
       "    </tr>\n",
       "    <tr>\n",
       "      <th>4</th>\n",
       "      <td>0.967136</td>\n",
       "      <td>1.000000</td>\n",
       "      <td>0.830986</td>\n",
       "      <td>0.586854</td>\n",
       "      <td>0.356808</td>\n",
       "      <td>0.248826</td>\n",
       "      <td>0.145540</td>\n",
       "      <td>0.089202</td>\n",
       "      <td>0.117371</td>\n",
       "      <td>0.150235</td>\n",
       "      <td>...</td>\n",
       "      <td>0.0</td>\n",
       "      <td>0.0</td>\n",
       "      <td>0.0</td>\n",
       "      <td>0.0</td>\n",
       "      <td>0.0</td>\n",
       "      <td>0.0</td>\n",
       "      <td>0.0</td>\n",
       "      <td>0.0</td>\n",
       "      <td>0.0</td>\n",
       "      <td>0.0</td>\n",
       "    </tr>\n",
       "  </tbody>\n",
       "</table>\n",
       "<p>5 rows × 188 columns</p>\n",
       "</div>"
      ],
      "text/plain": [
       "        0         1         2         3         4         5         6    \\\n",
       "0  0.977941  0.926471  0.681373  0.245098  0.154412  0.191176  0.151961   \n",
       "1  0.960114  0.863248  0.461538  0.196581  0.094017  0.125356  0.099715   \n",
       "2  1.000000  0.659459  0.186486  0.070270  0.070270  0.059459  0.056757   \n",
       "3  0.925414  0.665746  0.541436  0.276243  0.196133  0.077348  0.071823   \n",
       "4  0.967136  1.000000  0.830986  0.586854  0.356808  0.248826  0.145540   \n",
       "\n",
       "        7         8         9    ...  178  179  180  181  182  183  184  185  \\\n",
       "0  0.085784  0.058824  0.049020  ...  0.0  0.0  0.0  0.0  0.0  0.0  0.0  0.0   \n",
       "1  0.088319  0.074074  0.082621  ...  0.0  0.0  0.0  0.0  0.0  0.0  0.0  0.0   \n",
       "2  0.043243  0.054054  0.045946  ...  0.0  0.0  0.0  0.0  0.0  0.0  0.0  0.0   \n",
       "3  0.060773  0.066298  0.058011  ...  0.0  0.0  0.0  0.0  0.0  0.0  0.0  0.0   \n",
       "4  0.089202  0.117371  0.150235  ...  0.0  0.0  0.0  0.0  0.0  0.0  0.0  0.0   \n",
       "\n",
       "   186  187  \n",
       "0  0.0  0.0  \n",
       "1  0.0  0.0  \n",
       "2  0.0  0.0  \n",
       "3  0.0  0.0  \n",
       "4  0.0  0.0  \n",
       "\n",
       "[5 rows x 188 columns]"
      ]
     },
     "execution_count": 2,
     "metadata": {},
     "output_type": "execute_result"
    }
   ],
   "source": [
    "df_train = pd.read_csv(\"/kaggle/input/heartbeat/mitbih_train.csv\", header=None)\n",
    "df_test = pd.read_csv(\"/kaggle/input/heartbeat/mitbih_test.csv\", header=None)\n",
    "df_train.head()"
   ]
  },
  {
   "cell_type": "code",
   "execution_count": 3,
   "metadata": {
    "_uuid": "0fac0fb658ea34b48055838b4ad85078e883360d",
    "execution": {
     "iopub.execute_input": "2021-01-10T14:31:40.586695Z",
     "iopub.status.busy": "2021-01-10T14:31:40.585958Z",
     "iopub.status.idle": "2021-01-10T14:31:40.598122Z",
     "shell.execute_reply": "2021-01-10T14:31:40.597079Z"
    },
    "papermill": {
     "duration": 0.03599,
     "end_time": "2021-01-10T14:31:40.598316",
     "exception": false,
     "start_time": "2021-01-10T14:31:40.562326",
     "status": "completed"
    },
    "tags": []
   },
   "outputs": [
    {
     "name": "stdout",
     "output_type": "stream",
     "text": [
      "0.0    72471\n",
      "4.0     6431\n",
      "2.0     5788\n",
      "1.0     2223\n",
      "3.0      641\n",
      "Name: 187, dtype: int64\n",
      "0.0    18118\n",
      "4.0     1608\n",
      "2.0     1448\n",
      "1.0      556\n",
      "3.0      162\n",
      "Name: 187, dtype: int64\n"
     ]
    }
   ],
   "source": [
    "# df[187] is y (class 0~4)\n",
    "print(df_train[187].value_counts())\n",
    "print(df_test[187].value_counts())"
   ]
  },
  {
   "cell_type": "markdown",
   "metadata": {
    "_uuid": "c42605d020fd51885437f4af3cf10cebbeafc9bb",
    "papermill": {
     "duration": 0.017765,
     "end_time": "2021-01-10T14:31:40.634457",
     "exception": false,
     "start_time": "2021-01-10T14:31:40.616692",
     "status": "completed"
    },
    "tags": []
   },
   "source": [
    "## Prepare Dataset"
   ]
  },
  {
   "cell_type": "code",
   "execution_count": 4,
   "metadata": {
    "execution": {
     "iopub.execute_input": "2021-01-10T14:31:40.683909Z",
     "iopub.status.busy": "2021-01-10T14:31:40.681575Z",
     "iopub.status.idle": "2021-01-10T14:31:40.687593Z",
     "shell.execute_reply": "2021-01-10T14:31:40.686712Z"
    },
    "papermill": {
     "duration": 0.035272,
     "end_time": "2021-01-10T14:31:40.687764",
     "exception": false,
     "start_time": "2021-01-10T14:31:40.652492",
     "status": "completed"
    },
    "tags": []
   },
   "outputs": [
    {
     "name": "stdout",
     "output_type": "stream",
     "text": [
      "(87554, 187)\n",
      "(21892, 187)\n"
     ]
    }
   ],
   "source": [
    "X_train = df_train.values[:, :-1]\n",
    "y_train = df_train.values[:, -1].astype(int)\n",
    "\n",
    "X_test  = df_test.values[:, :-1]\n",
    "y_test  = df_test.values[:, -1].astype(int)\n",
    "\n",
    "print(X_train.shape)\n",
    "print(X_test.shape)"
   ]
  },
  {
   "cell_type": "code",
   "execution_count": 5,
   "metadata": {
    "execution": {
     "iopub.execute_input": "2021-01-10T14:31:40.734903Z",
     "iopub.status.busy": "2021-01-10T14:31:40.733934Z",
     "iopub.status.idle": "2021-01-10T14:31:40.737947Z",
     "shell.execute_reply": "2021-01-10T14:31:40.738518Z"
    },
    "papermill": {
     "duration": 0.031101,
     "end_time": "2021-01-10T14:31:40.738680",
     "exception": false,
     "start_time": "2021-01-10T14:31:40.707579",
     "status": "completed"
    },
    "tags": []
   },
   "outputs": [
    {
     "name": "stdout",
     "output_type": "stream",
     "text": [
      "(87554, 1, 187, 1)\n",
      "(21892, 1, 187, 1)\n"
     ]
    }
   ],
   "source": [
    "X_train = X_train.reshape(X_train.shape[0], 1, X_train.shape[1],1)\n",
    "X_test = X_test.reshape(X_test.shape[0], 1, X_test.shape[1],1)\n",
    "\n",
    "print(X_train.shape)\n",
    "print(X_test.shape)"
   ]
  },
  {
   "cell_type": "code",
   "execution_count": 6,
   "metadata": {
    "_uuid": "5ddf1e7b397de3c413fc991945d2d7f09df67da1",
    "execution": {
     "iopub.execute_input": "2021-01-10T14:31:40.783847Z",
     "iopub.status.busy": "2021-01-10T14:31:40.782855Z",
     "iopub.status.idle": "2021-01-10T14:31:48.069576Z",
     "shell.execute_reply": "2021-01-10T14:31:48.068541Z"
    },
    "papermill": {
     "duration": 7.312273,
     "end_time": "2021-01-10T14:31:48.069799",
     "exception": false,
     "start_time": "2021-01-10T14:31:40.757526",
     "status": "completed"
    },
    "tags": []
   },
   "outputs": [
    {
     "name": "stdout",
     "output_type": "stream",
     "text": [
      "(87554, 5)\n",
      "(21892, 5)\n"
     ]
    }
   ],
   "source": [
    "from tensorflow.keras import utils\n",
    "y_train = utils.to_categorical(y_train)\n",
    "y_test  = utils.to_categorical(y_test)\n",
    "\n",
    "print(y_train.shape)\n",
    "print(y_test.shape)"
   ]
  },
  {
   "cell_type": "markdown",
   "metadata": {
    "_uuid": "c4de23b85abe34a726eab268171da0e827bafa35",
    "papermill": {
     "duration": 0.019958,
     "end_time": "2021-01-10T14:31:48.110699",
     "exception": false,
     "start_time": "2021-01-10T14:31:48.090741",
     "status": "completed"
    },
    "tags": []
   },
   "source": [
    "## Build Model"
   ]
  },
  {
   "cell_type": "code",
   "execution_count": 7,
   "metadata": {
    "_uuid": "fb0dc9775ddfa761c0ad948d59020fcbd2681c57",
    "execution": {
     "iopub.execute_input": "2021-01-10T14:31:48.155524Z",
     "iopub.status.busy": "2021-01-10T14:31:48.154478Z",
     "iopub.status.idle": "2021-01-10T14:31:48.157960Z",
     "shell.execute_reply": "2021-01-10T14:31:48.157280Z"
    },
    "papermill": {
     "duration": 0.027829,
     "end_time": "2021-01-10T14:31:48.158097",
     "exception": false,
     "start_time": "2021-01-10T14:31:48.130268",
     "status": "completed"
    },
    "tags": []
   },
   "outputs": [],
   "source": [
    "input_shape = X_train.shape[1:]\n",
    "num_classes= 5"
   ]
  },
  {
   "cell_type": "markdown",
   "metadata": {
    "papermill": {
     "duration": 0.020646,
     "end_time": "2021-01-10T14:31:48.199716",
     "exception": false,
     "start_time": "2021-01-10T14:31:48.179070",
     "status": "completed"
    },
    "tags": []
   },
   "source": [
    "### *Conv1D not supported by TFLite for Micro, so Conv2D is used, not much difference in code size*"
   ]
  },
  {
   "cell_type": "code",
   "execution_count": 8,
   "metadata": {
    "_uuid": "e70fab0b07290e042ba9cd7c6cba37462a457b03",
    "execution": {
     "iopub.execute_input": "2021-01-10T14:31:48.248866Z",
     "iopub.status.busy": "2021-01-10T14:31:48.247710Z",
     "iopub.status.idle": "2021-01-10T14:31:48.414336Z",
     "shell.execute_reply": "2021-01-10T14:31:48.413631Z"
    },
    "papermill": {
     "duration": 0.19505,
     "end_time": "2021-01-10T14:31:48.414456",
     "exception": false,
     "start_time": "2021-01-10T14:31:48.219406",
     "status": "completed"
    },
    "tags": []
   },
   "outputs": [
    {
     "name": "stdout",
     "output_type": "stream",
     "text": [
      "Model: \"functional_1\"\n",
      "_________________________________________________________________\n",
      "Layer (type)                 Output Shape              Param #   \n",
      "=================================================================\n",
      "input_1 (InputLayer)         [(None, 1, 187, 1)]       0         \n",
      "_________________________________________________________________\n",
      "conv2d (Conv2D)              (None, 1, 187, 16)        416       \n",
      "_________________________________________________________________\n",
      "flatten (Flatten)            (None, 2992)              0         \n",
      "_________________________________________________________________\n",
      "dense (Dense)                (None, 16)                47888     \n",
      "_________________________________________________________________\n",
      "dense_1 (Dense)              (None, 5)                 85        \n",
      "=================================================================\n",
      "Total params: 48,389\n",
      "Trainable params: 48,389\n",
      "Non-trainable params: 0\n",
      "_________________________________________________________________\n"
     ]
    }
   ],
   "source": [
    "# Build Model \n",
    "from tensorflow.keras import models, layers\n",
    "\n",
    "inputs = layers.Input(shape=input_shape)\n",
    "x = layers.Conv2D(16, kernel_size=5, activation='relu', padding='same')(inputs)\n",
    "#x = layers.Conv2D(16, kernel_size=5, activation='relu', padding='same')(x)\n",
    "#x = layers.MaxPooling2D((2,2), padding='same')(x)\n",
    "\n",
    "x = layers.Flatten()(x)\n",
    "x = layers.Dense(16)(x)\n",
    "outputs = layers.Dense(num_classes, activation=\"softmax\")(x)\n",
    "\n",
    "model = models.Model(inputs=inputs, outputs=outputs)\n",
    "\n",
    "model.summary()"
   ]
  },
  {
   "cell_type": "code",
   "execution_count": 9,
   "metadata": {
    "_uuid": "812e637ae56f6a4be9c8e98d3b501cfb11ef78cb",
    "execution": {
     "iopub.execute_input": "2021-01-10T14:31:48.458270Z",
     "iopub.status.busy": "2021-01-10T14:31:48.457397Z",
     "iopub.status.idle": "2021-01-10T14:31:48.473472Z",
     "shell.execute_reply": "2021-01-10T14:31:48.473982Z"
    },
    "papermill": {
     "duration": 0.039796,
     "end_time": "2021-01-10T14:31:48.474152",
     "exception": false,
     "start_time": "2021-01-10T14:31:48.434356",
     "status": "completed"
    },
    "tags": []
   },
   "outputs": [],
   "source": [
    "# Compile Model\n",
    "model.compile(loss='categorical_crossentropy', optimizer='adam', metrics=['accuracy'])"
   ]
  },
  {
   "cell_type": "markdown",
   "metadata": {
    "papermill": {
     "duration": 0.019848,
     "end_time": "2021-01-10T14:31:48.514557",
     "exception": false,
     "start_time": "2021-01-10T14:31:48.494709",
     "status": "completed"
    },
    "tags": []
   },
   "source": [
    "## Train Model"
   ]
  },
  {
   "cell_type": "code",
   "execution_count": 10,
   "metadata": {
    "execution": {
     "iopub.execute_input": "2021-01-10T14:31:48.559080Z",
     "iopub.status.busy": "2021-01-10T14:31:48.558238Z",
     "iopub.status.idle": "2021-01-10T14:31:48.562265Z",
     "shell.execute_reply": "2021-01-10T14:31:48.562937Z"
    },
    "papermill": {
     "duration": 0.02824,
     "end_time": "2021-01-10T14:31:48.563119",
     "exception": false,
     "start_time": "2021-01-10T14:31:48.534879",
     "status": "completed"
    },
    "tags": []
   },
   "outputs": [],
   "source": [
    "batch_size = 100\n",
    "num_epochs = 10 "
   ]
  },
  {
   "cell_type": "code",
   "execution_count": 11,
   "metadata": {
    "_uuid": "1e6ef643f6a55ab5b3c1b46126832c3ac45a6a2b",
    "execution": {
     "iopub.execute_input": "2021-01-10T14:31:48.609165Z",
     "iopub.status.busy": "2021-01-10T14:31:48.608394Z",
     "iopub.status.idle": "2021-01-10T14:33:06.905585Z",
     "shell.execute_reply": "2021-01-10T14:33:06.904838Z"
    },
    "papermill": {
     "duration": 78.321761,
     "end_time": "2021-01-10T14:33:06.905736",
     "exception": false,
     "start_time": "2021-01-10T14:31:48.583975",
     "status": "completed"
    },
    "tags": []
   },
   "outputs": [
    {
     "name": "stdout",
     "output_type": "stream",
     "text": [
      "Epoch 1/10\n",
      "876/876 [==============================] - 8s 9ms/step - loss: 0.3378 - accuracy: 0.9045 - val_loss: 0.2184 - val_accuracy: 0.9417\n",
      "Epoch 2/10\n",
      "876/876 [==============================] - 8s 9ms/step - loss: 0.1795 - accuracy: 0.9521 - val_loss: 0.1713 - val_accuracy: 0.9553\n",
      "Epoch 3/10\n",
      "876/876 [==============================] - 8s 9ms/step - loss: 0.1546 - accuracy: 0.9580 - val_loss: 0.1575 - val_accuracy: 0.9587\n",
      "Epoch 4/10\n",
      "876/876 [==============================] - 8s 9ms/step - loss: 0.1438 - accuracy: 0.9609 - val_loss: 0.1607 - val_accuracy: 0.9565\n",
      "Epoch 5/10\n",
      "876/876 [==============================] - 8s 9ms/step - loss: 0.1367 - accuracy: 0.9625 - val_loss: 0.1628 - val_accuracy: 0.9556\n",
      "Epoch 6/10\n",
      "876/876 [==============================] - 7s 9ms/step - loss: 0.1300 - accuracy: 0.9644 - val_loss: 0.1460 - val_accuracy: 0.9615\n",
      "Epoch 7/10\n",
      "876/876 [==============================] - 8s 9ms/step - loss: 0.1261 - accuracy: 0.9654 - val_loss: 0.1377 - val_accuracy: 0.9627\n",
      "Epoch 8/10\n",
      "876/876 [==============================] - 8s 9ms/step - loss: 0.1217 - accuracy: 0.9665 - val_loss: 0.1303 - val_accuracy: 0.9654\n",
      "Epoch 9/10\n",
      "876/876 [==============================] - 8s 9ms/step - loss: 0.1186 - accuracy: 0.9676 - val_loss: 0.1342 - val_accuracy: 0.9647\n",
      "Epoch 10/10\n",
      "876/876 [==============================] - 7s 9ms/step - loss: 0.1163 - accuracy: 0.9680 - val_loss: 0.1307 - val_accuracy: 0.9640\n"
     ]
    }
   ],
   "source": [
    "# Train Model\n",
    "history = model.fit(X_train, y_train, epochs=num_epochs, batch_size=batch_size, validation_data=(X_test, y_test))"
   ]
  },
  {
   "cell_type": "markdown",
   "metadata": {
    "papermill": {
     "duration": 0.451737,
     "end_time": "2021-01-10T14:33:07.806102",
     "exception": false,
     "start_time": "2021-01-10T14:33:07.354365",
     "status": "completed"
    },
    "tags": []
   },
   "source": [
    "## Save Model"
   ]
  },
  {
   "cell_type": "code",
   "execution_count": 12,
   "metadata": {
    "execution": {
     "iopub.execute_input": "2021-01-10T14:33:08.749922Z",
     "iopub.status.busy": "2021-01-10T14:33:08.747485Z",
     "iopub.status.idle": "2021-01-10T14:33:08.773133Z",
     "shell.execute_reply": "2021-01-10T14:33:08.772555Z"
    },
    "papermill": {
     "duration": 0.485768,
     "end_time": "2021-01-10T14:33:08.773312",
     "exception": false,
     "start_time": "2021-01-10T14:33:08.287544",
     "status": "completed"
    },
    "tags": []
   },
   "outputs": [],
   "source": [
    "# Save Model\n",
    "models.save_model(model, 'ecg_arrhythmia.hdf5')"
   ]
  },
  {
   "cell_type": "markdown",
   "metadata": {
    "papermill": {
     "duration": 0.448078,
     "end_time": "2021-01-10T14:33:09.686428",
     "exception": false,
     "start_time": "2021-01-10T14:33:09.238350",
     "status": "completed"
    },
    "tags": []
   },
   "source": [
    "## TinyML"
   ]
  },
  {
   "cell_type": "code",
   "execution_count": 13,
   "metadata": {
    "execution": {
     "iopub.execute_input": "2021-01-10T14:33:10.596726Z",
     "iopub.status.busy": "2021-01-10T14:33:10.595963Z",
     "iopub.status.idle": "2021-01-10T14:33:24.785206Z",
     "shell.execute_reply": "2021-01-10T14:33:24.785782Z"
    },
    "papermill": {
     "duration": 14.645393,
     "end_time": "2021-01-10T14:33:24.785931",
     "exception": false,
     "start_time": "2021-01-10T14:33:10.140538",
     "status": "completed"
    },
    "tags": []
   },
   "outputs": [
    {
     "name": "stdout",
     "output_type": "stream",
     "text": [
      "Collecting tinymlgen\r\n",
      "  Downloading tinymlgen-0.2.tar.gz (1.5 kB)\r\n",
      "Requirement already satisfied: tensorflow in /opt/conda/lib/python3.7/site-packages (from tinymlgen) (2.3.1)\r\n",
      "Collecting hexdump\r\n",
      "  Downloading hexdump-3.3.zip (12 kB)\r\n",
      "Requirement already satisfied: keras-preprocessing<1.2,>=1.1.1 in /opt/conda/lib/python3.7/site-packages (from tensorflow->tinymlgen) (1.1.2)\r\n",
      "Requirement already satisfied: google-pasta>=0.1.8 in /opt/conda/lib/python3.7/site-packages (from tensorflow->tinymlgen) (0.2.0)\r\n",
      "Requirement already satisfied: opt-einsum>=2.3.2 in /opt/conda/lib/python3.7/site-packages (from tensorflow->tinymlgen) (3.3.0)\r\n",
      "Requirement already satisfied: tensorboard<3,>=2.3.0 in /opt/conda/lib/python3.7/site-packages (from tensorflow->tinymlgen) (2.4.0)\r\n",
      "Requirement already satisfied: grpcio>=1.8.6 in /opt/conda/lib/python3.7/site-packages (from tensorflow->tinymlgen) (1.34.0)\r\n",
      "Requirement already satisfied: numpy<1.19.0,>=1.16.0 in /opt/conda/lib/python3.7/site-packages (from tensorflow->tinymlgen) (1.18.5)\r\n",
      "Requirement already satisfied: protobuf>=3.9.2 in /opt/conda/lib/python3.7/site-packages (from tensorflow->tinymlgen) (3.14.0)\r\n",
      "Requirement already satisfied: absl-py>=0.7.0 in /opt/conda/lib/python3.7/site-packages (from tensorflow->tinymlgen) (0.10.0)\r\n",
      "Requirement already satisfied: h5py<2.11.0,>=2.10.0 in /opt/conda/lib/python3.7/site-packages (from tensorflow->tinymlgen) (2.10.0)\r\n",
      "Requirement already satisfied: tensorflow-estimator<2.4.0,>=2.3.0 in /opt/conda/lib/python3.7/site-packages (from tensorflow->tinymlgen) (2.3.0)\r\n",
      "Requirement already satisfied: astunparse==1.6.3 in /opt/conda/lib/python3.7/site-packages (from tensorflow->tinymlgen) (1.6.3)\r\n",
      "Requirement already satisfied: termcolor>=1.1.0 in /opt/conda/lib/python3.7/site-packages (from tensorflow->tinymlgen) (1.1.0)\r\n",
      "Requirement already satisfied: gast==0.3.3 in /opt/conda/lib/python3.7/site-packages (from tensorflow->tinymlgen) (0.3.3)\r\n",
      "Requirement already satisfied: wheel>=0.26 in /opt/conda/lib/python3.7/site-packages (from tensorflow->tinymlgen) (0.34.2)\r\n",
      "Requirement already satisfied: six>=1.12.0 in /opt/conda/lib/python3.7/site-packages (from tensorflow->tinymlgen) (1.14.0)\r\n",
      "Requirement already satisfied: wrapt>=1.11.1 in /opt/conda/lib/python3.7/site-packages (from tensorflow->tinymlgen) (1.12.1)\r\n",
      "Requirement already satisfied: six>=1.12.0 in /opt/conda/lib/python3.7/site-packages (from tensorflow->tinymlgen) (1.14.0)\r\n",
      "Requirement already satisfied: wheel>=0.26 in /opt/conda/lib/python3.7/site-packages (from tensorflow->tinymlgen) (0.34.2)\r\n",
      "Requirement already satisfied: six>=1.12.0 in /opt/conda/lib/python3.7/site-packages (from tensorflow->tinymlgen) (1.14.0)\r\n",
      "Requirement already satisfied: six>=1.12.0 in /opt/conda/lib/python3.7/site-packages (from tensorflow->tinymlgen) (1.14.0)\r\n",
      "Requirement already satisfied: six>=1.12.0 in /opt/conda/lib/python3.7/site-packages (from tensorflow->tinymlgen) (1.14.0)\r\n",
      "Requirement already satisfied: six>=1.12.0 in /opt/conda/lib/python3.7/site-packages (from tensorflow->tinymlgen) (1.14.0)\r\n",
      "Requirement already satisfied: numpy<1.19.0,>=1.16.0 in /opt/conda/lib/python3.7/site-packages (from tensorflow->tinymlgen) (1.18.5)\r\n",
      "Requirement already satisfied: numpy<1.19.0,>=1.16.0 in /opt/conda/lib/python3.7/site-packages (from tensorflow->tinymlgen) (1.18.5)\r\n",
      "Requirement already satisfied: six>=1.12.0 in /opt/conda/lib/python3.7/site-packages (from tensorflow->tinymlgen) (1.14.0)\r\n",
      "Requirement already satisfied: numpy<1.19.0,>=1.16.0 in /opt/conda/lib/python3.7/site-packages (from tensorflow->tinymlgen) (1.18.5)\r\n",
      "Requirement already satisfied: six>=1.12.0 in /opt/conda/lib/python3.7/site-packages (from tensorflow->tinymlgen) (1.14.0)\r\n",
      "Requirement already satisfied: werkzeug>=0.11.15 in /opt/conda/lib/python3.7/site-packages (from tensorboard<3,>=2.3.0->tensorflow->tinymlgen) (1.0.1)\r\n",
      "Requirement already satisfied: protobuf>=3.9.2 in /opt/conda/lib/python3.7/site-packages (from tensorflow->tinymlgen) (3.14.0)\r\n",
      "Requirement already satisfied: markdown>=2.6.8 in /opt/conda/lib/python3.7/site-packages (from tensorboard<3,>=2.3.0->tensorflow->tinymlgen) (3.2.1)\r\n",
      "Requirement already satisfied: numpy<1.19.0,>=1.16.0 in /opt/conda/lib/python3.7/site-packages (from tensorflow->tinymlgen) (1.18.5)\r\n",
      "Requirement already satisfied: absl-py>=0.7.0 in /opt/conda/lib/python3.7/site-packages (from tensorflow->tinymlgen) (0.10.0)\r\n",
      "Requirement already satisfied: requests<3,>=2.21.0 in /opt/conda/lib/python3.7/site-packages (from tensorboard<3,>=2.3.0->tensorflow->tinymlgen) (2.23.0)\r\n",
      "Requirement already satisfied: setuptools>=41.0.0 in /opt/conda/lib/python3.7/site-packages (from tensorboard<3,>=2.3.0->tensorflow->tinymlgen) (46.1.3.post20200325)\r\n",
      "Requirement already satisfied: six>=1.12.0 in /opt/conda/lib/python3.7/site-packages (from tensorflow->tinymlgen) (1.14.0)\r\n",
      "Requirement already satisfied: tensorboard-plugin-wit>=1.6.0 in /opt/conda/lib/python3.7/site-packages (from tensorboard<3,>=2.3.0->tensorflow->tinymlgen) (1.7.0)\r\n",
      "Requirement already satisfied: wheel>=0.26 in /opt/conda/lib/python3.7/site-packages (from tensorflow->tinymlgen) (0.34.2)\r\n",
      "Requirement already satisfied: grpcio>=1.8.6 in /opt/conda/lib/python3.7/site-packages (from tensorflow->tinymlgen) (1.34.0)\r\n",
      "Requirement already satisfied: google-auth-oauthlib<0.5,>=0.4.1 in /opt/conda/lib/python3.7/site-packages (from tensorboard<3,>=2.3.0->tensorflow->tinymlgen) (0.4.1)\r\n",
      "Requirement already satisfied: google-auth<2,>=1.6.3 in /opt/conda/lib/python3.7/site-packages (from tensorboard<3,>=2.3.0->tensorflow->tinymlgen) (1.23.0)\r\n",
      "Requirement already satisfied: rsa<5,>=3.1.4 in /opt/conda/lib/python3.7/site-packages (from google-auth<2,>=1.6.3->tensorboard<3,>=2.3.0->tensorflow->tinymlgen) (4.0)\r\n",
      "Requirement already satisfied: pyasn1-modules>=0.2.1 in /opt/conda/lib/python3.7/site-packages (from google-auth<2,>=1.6.3->tensorboard<3,>=2.3.0->tensorflow->tinymlgen) (0.2.7)\r\n",
      "Requirement already satisfied: cachetools<5.0,>=2.0.0 in /opt/conda/lib/python3.7/site-packages (from google-auth<2,>=1.6.3->tensorboard<3,>=2.3.0->tensorflow->tinymlgen) (3.1.1)\r\n",
      "Requirement already satisfied: setuptools>=41.0.0 in /opt/conda/lib/python3.7/site-packages (from tensorboard<3,>=2.3.0->tensorflow->tinymlgen) (46.1.3.post20200325)\r\n",
      "Requirement already satisfied: six>=1.12.0 in /opt/conda/lib/python3.7/site-packages (from tensorflow->tinymlgen) (1.14.0)\r\n",
      "Requirement already satisfied: requests-oauthlib>=0.7.0 in /opt/conda/lib/python3.7/site-packages (from google-auth-oauthlib<0.5,>=0.4.1->tensorboard<3,>=2.3.0->tensorflow->tinymlgen) (1.2.0)\r\n",
      "Requirement already satisfied: google-auth<2,>=1.6.3 in /opt/conda/lib/python3.7/site-packages (from tensorboard<3,>=2.3.0->tensorflow->tinymlgen) (1.23.0)\r\n",
      "Requirement already satisfied: setuptools>=41.0.0 in /opt/conda/lib/python3.7/site-packages (from tensorboard<3,>=2.3.0->tensorflow->tinymlgen) (46.1.3.post20200325)\r\n",
      "Requirement already satisfied: pyasn1<0.5.0,>=0.4.6 in /opt/conda/lib/python3.7/site-packages (from pyasn1-modules>=0.2.1->google-auth<2,>=1.6.3->tensorboard<3,>=2.3.0->tensorflow->tinymlgen) (0.4.8)\r\n",
      "Requirement already satisfied: chardet<4,>=3.0.2 in /opt/conda/lib/python3.7/site-packages (from requests<3,>=2.21.0->tensorboard<3,>=2.3.0->tensorflow->tinymlgen) (3.0.4)\r\n",
      "Requirement already satisfied: certifi>=2017.4.17 in /opt/conda/lib/python3.7/site-packages (from requests<3,>=2.21.0->tensorboard<3,>=2.3.0->tensorflow->tinymlgen) (2020.12.5)\r\n",
      "Requirement already satisfied: urllib3!=1.25.0,!=1.25.1,<1.26,>=1.21.1 in /opt/conda/lib/python3.7/site-packages (from requests<3,>=2.21.0->tensorboard<3,>=2.3.0->tensorflow->tinymlgen) (1.25.9)\r\n",
      "Requirement already satisfied: idna<3,>=2.5 in /opt/conda/lib/python3.7/site-packages (from requests<3,>=2.21.0->tensorboard<3,>=2.3.0->tensorflow->tinymlgen) (2.9)\r\n",
      "Requirement already satisfied: oauthlib>=3.0.0 in /opt/conda/lib/python3.7/site-packages (from requests-oauthlib>=0.7.0->google-auth-oauthlib<0.5,>=0.4.1->tensorboard<3,>=2.3.0->tensorflow->tinymlgen) (3.0.1)\r\n",
      "Requirement already satisfied: requests<3,>=2.21.0 in /opt/conda/lib/python3.7/site-packages (from tensorboard<3,>=2.3.0->tensorflow->tinymlgen) (2.23.0)\r\n",
      "Requirement already satisfied: pyasn1<0.5.0,>=0.4.6 in /opt/conda/lib/python3.7/site-packages (from pyasn1-modules>=0.2.1->google-auth<2,>=1.6.3->tensorboard<3,>=2.3.0->tensorflow->tinymlgen) (0.4.8)\r\n",
      "Building wheels for collected packages: tinymlgen, hexdump\r\n",
      "  Building wheel for tinymlgen (setup.py) ... \u001b[?25l-\b \b\\\b \bdone\r\n",
      "\u001b[?25h  Created wheel for tinymlgen: filename=tinymlgen-0.2-py3-none-any.whl size=2243 sha256=e34d75e81d2ba7467cc720a0d2c045e7751118fa4d33a071abd0d76569b6b958\r\n",
      "  Stored in directory: /root/.cache/pip/wheels/1c/94/c7/a18049eea10532c9975ad7353fcccc7c436673285b4723a4bb\r\n",
      "  Building wheel for hexdump (setup.py) ... \u001b[?25l-\b \b\\\b \bdone\r\n",
      "\u001b[?25h  Created wheel for hexdump: filename=hexdump-3.3-py3-none-any.whl size=8911 sha256=541121546b04ae9dbf42b7c44b76b88278cbe2c0ec0a7b0af0e506491737a49e\r\n",
      "  Stored in directory: /root/.cache/pip/wheels/68/fe/aa/06fd9d6968cfc3e1926eeab1ec728c246dafa120a72ff9afae\r\n",
      "Successfully built tinymlgen hexdump\r\n",
      "Installing collected packages: hexdump, tinymlgen\r\n",
      "Successfully installed hexdump-3.3 tinymlgen-0.2\r\n",
      "\u001b[33mWARNING: You are using pip version 20.3.1; however, version 20.3.3 is available.\r\n",
      "You should consider upgrading via the '/opt/conda/bin/python3.7 -m pip install --upgrade pip' command.\u001b[0m\r\n"
     ]
    }
   ],
   "source": [
    "!pip install tinymlgen"
   ]
  },
  {
   "cell_type": "markdown",
   "metadata": {
    "papermill": {
     "duration": 0.457094,
     "end_time": "2021-01-10T14:33:25.704900",
     "exception": false,
     "start_time": "2021-01-10T14:33:25.247806",
     "status": "completed"
    },
    "tags": []
   },
   "source": [
    "### export model\n",
    "    import tensorflow as tf\n",
    "    converter = tf.lite.TFLiteConverter.from_keras_model(model)\n",
    "    tflite_model = converter.convert()\n",
    "\n",
    "    # Save the model to disk\n",
    "    open(\"ecg_arrhythmia.tflite\", \"wb\").write(tflite_model)\n",
    "    \n",
    "    # hex dump\n",
    "    !xxd -i ecg_arrhythmia.tflite > ecg_arrhythmia.cc"
   ]
  },
  {
   "cell_type": "code",
   "execution_count": 14,
   "metadata": {
    "execution": {
     "iopub.execute_input": "2021-01-10T14:33:26.625554Z",
     "iopub.status.busy": "2021-01-10T14:33:26.624807Z",
     "iopub.status.idle": "2021-01-10T14:33:27.958115Z",
     "shell.execute_reply": "2021-01-10T14:33:27.957413Z"
    },
    "papermill": {
     "duration": 1.794462,
     "end_time": "2021-01-10T14:33:27.958275",
     "exception": false,
     "start_time": "2021-01-10T14:33:26.163813",
     "status": "completed"
    },
    "tags": []
   },
   "outputs": [],
   "source": [
    "from tinymlgen import port\n",
    "c_code = port(model, variable_name='ecg_arrhythmia', pretty_print=True, optimize=False) \n",
    "\n",
    "with open('ecg_arrhythmia.h', 'w') as f:\n",
    "    print(c_code, file=f)"
   ]
  },
  {
   "cell_type": "markdown",
   "metadata": {
    "papermill": {
     "duration": 0.465198,
     "end_time": "2021-01-10T14:33:28.929749",
     "exception": false,
     "start_time": "2021-01-10T14:33:28.464551",
     "status": "completed"
    },
    "tags": []
   },
   "source": [
    "### export a test data"
   ]
  },
  {
   "cell_type": "code",
   "execution_count": 15,
   "metadata": {
    "execution": {
     "iopub.execute_input": "2021-01-10T14:33:29.859694Z",
     "iopub.status.busy": "2021-01-10T14:33:29.858866Z",
     "iopub.status.idle": "2021-01-10T14:33:29.862509Z",
     "shell.execute_reply": "2021-01-10T14:33:29.863106Z"
    },
    "papermill": {
     "duration": 0.472274,
     "end_time": "2021-01-10T14:33:29.863295",
     "exception": false,
     "start_time": "2021-01-10T14:33:29.391021",
     "status": "completed"
    },
    "tags": []
   },
   "outputs": [],
   "source": [
    "with open('x_test.h', 'w') as f:\n",
    "    print(\"float x_test_dat[187] = {\", file=f)    \n",
    "    s=\"    \"\n",
    "    for i in range(187):\n",
    "        s+=str(X_test[0][0][i][0])+', '\n",
    "        if i==186:\n",
    "            print(s, file=f) \n",
    "        elif (i+1)%8==0:\n",
    "            print(s, file=f)\n",
    "            s=\"    \"\n",
    "    print(\"};\", file=f)\n",
    "f.close()"
   ]
  },
  {
   "cell_type": "code",
   "execution_count": 16,
   "metadata": {
    "execution": {
     "iopub.execute_input": "2021-01-10T14:33:30.840623Z",
     "iopub.status.busy": "2021-01-10T14:33:30.832473Z",
     "iopub.status.idle": "2021-01-10T14:33:31.577771Z",
     "shell.execute_reply": "2021-01-10T14:33:31.577017Z"
    },
    "papermill": {
     "duration": 1.213688,
     "end_time": "2021-01-10T14:33:31.577926",
     "exception": false,
     "start_time": "2021-01-10T14:33:30.364238",
     "status": "completed"
    },
    "tags": []
   },
   "outputs": [
    {
     "name": "stdout",
     "output_type": "stream",
     "text": [
      "float x_test_dat[187] = {\r\n",
      "    1.0, 0.7582644820213318, 0.11157024651765823, 0.0, 0.08057851344347002, 0.07851240038871765, 0.06611569970846176, 0.04958677664399147, \r\n",
      "    0.047520659863948815, 0.03512396663427353, 0.03099173493683338, 0.028925620019435883, 0.03512396663427353, 0.026859503239393234, 0.039256200194358826, 0.03512396663427353, \r\n",
      "    0.043388430029153824, 0.047520659863948815, 0.05371900647878647, 0.05371900647878647, 0.07024793326854706, 0.0723140463232994, 0.08471074700355531, 0.09710744023323059, \r\n",
      "    0.12190082669258115, 0.13223139941692352, 0.1694214940071106, 0.19628098607063293, 0.2148760259151459, 0.23553718626499176, 0.2541322410106659, 0.26446279883384705, \r\n",
      "    0.2851239740848541, 0.27272728085517883, 0.2665289342403412, 0.23966942727565765, 0.2148760259151459, 0.1735537201166153, 0.1570248007774353, 0.12396693974733353, \r\n",
      "    0.12190082669258115, 0.10743801295757292, 0.10537189990282057, 0.09710744023323059, 0.10537189990282057, 0.09917355328798294, 0.10537189990282057, 0.09917355328798294, \r\n",
      "    0.10743801295757292, 0.10743801295757292, 0.11570248007774353, 0.11157024651765823, 0.12190082669258115, 0.11157024651765823, 0.11983471363782883, 0.11157024651765823, \r\n",
      "    0.11363636702299118, 0.11157024651765823, 0.12190082669258115, 0.10537189990282057, 0.10743801295757292, 0.10123966634273528, 0.10123966634273528, 0.08677686005830765, \r\n",
      "    0.0929752066731453, 0.08471074700355531, 0.08264462649822235, 0.07851240038871765, 0.07851240038871765, 0.07024793326854706, 0.07644627988338472, 0.06818182021379471, \r\n",
      "    0.07851240038871765, 0.07024793326854706, 0.06818182021379471, 0.06818182021379471, 0.07438016682863235, 0.0723140463232994, 0.09090909361839294, 0.10123966634273528, \r\n",
      "    0.10743801295757292, 0.10537189990282057, 0.12190082669258115, 0.11570248007774353, 0.10950413346290588, 0.09710744023323059, 0.10330578684806824, 0.09710744023323059, \r\n",
      "    0.08677686005830765, 0.0723140463232994, 0.07024793326854706, 0.05371900647878647, 0.057851240038871765, 0.04958677664399147, 0.057851240038871765, 0.05165289342403412, \r\n",
      "    0.05578512325882912, 0.05371900647878647, 0.05371900647878647, 0.0, 0.012396694160997868, 0.18801653385162356, 0.6818181872367858, 0.9752066135406494, \r\n",
      "    0.6157024502754213, 0.041322313249111176, 0.012396694160997868, 0.08677686005830765, 0.06611569970846176, 0.06611569970846176, 0.05165289342403412, 0.039256200194358826, \r\n",
      "    0.043388430029153824, 0.03305784985423088, 0.041322313249111176, 0.03512396663427353, 0.04545454680919647, 0.041322313249111176, 0.04545454680919647, 0.043388430029153824, \r\n",
      "    0.04958677664399147, 0.047520659863948815, 0.06404958665370941, 0.06818182021379471, 0.0, 0.0, 0.0, 0.0, \r\n",
      "    0.0, 0.0, 0.0, 0.0, 0.0, 0.0, 0.0, 0.0, \r\n",
      "    0.0, 0.0, 0.0, 0.0, 0.0, 0.0, 0.0, 0.0, \r\n",
      "    0.0, 0.0, 0.0, 0.0, 0.0, 0.0, 0.0, 0.0, \r\n",
      "    0.0, 0.0, 0.0, 0.0, 0.0, 0.0, 0.0, 0.0, \r\n",
      "    0.0, 0.0, 0.0, 0.0, 0.0, 0.0, 0.0, 0.0, \r\n",
      "    0.0, 0.0, 0.0, 0.0, 0.0, 0.0, 0.0, 0.0, \r\n",
      "    0.0, 0.0, 0.0, 0.0, 0.0, 0.0, 0.0, 0.0, \r\n",
      "    0.0, 0.0, 0.0, \r\n",
      "};\r\n"
     ]
    }
   ],
   "source": [
    "!cat x_test.h"
   ]
  },
  {
   "cell_type": "code",
   "execution_count": 17,
   "metadata": {
    "execution": {
     "iopub.execute_input": "2021-01-10T14:33:32.502051Z",
     "iopub.status.busy": "2021-01-10T14:33:32.501258Z",
     "iopub.status.idle": "2021-01-10T14:33:32.504590Z",
     "shell.execute_reply": "2021-01-10T14:33:32.505366Z"
    },
    "papermill": {
     "duration": 0.46685,
     "end_time": "2021-01-10T14:33:32.505574",
     "exception": false,
     "start_time": "2021-01-10T14:33:32.038724",
     "status": "completed"
    },
    "tags": []
   },
   "outputs": [
    {
     "name": "stdout",
     "output_type": "stream",
     "text": [
      "[1. 0. 0. 0. 0.]\n"
     ]
    }
   ],
   "source": [
    "print(y_test[0])"
   ]
  },
  {
   "cell_type": "code",
   "execution_count": 18,
   "metadata": {
    "execution": {
     "iopub.execute_input": "2021-01-10T14:33:33.427460Z",
     "iopub.status.busy": "2021-01-10T14:33:33.426774Z",
     "iopub.status.idle": "2021-01-10T14:33:33.654041Z",
     "shell.execute_reply": "2021-01-10T14:33:33.653363Z"
    },
    "papermill": {
     "duration": 0.690138,
     "end_time": "2021-01-10T14:33:33.654168",
     "exception": false,
     "start_time": "2021-01-10T14:33:32.964030",
     "status": "completed"
    },
    "tags": []
   },
   "outputs": [
    {
     "data": {
      "text/plain": [
       "[<matplotlib.lines.Line2D at 0x7ff79454d850>]"
      ]
     },
     "execution_count": 18,
     "metadata": {},
     "output_type": "execute_result"
    },
    {
     "data": {
      "image/png": "[encoded data removed]",
      "text/plain": [
       "<Figure size 432x288 with 1 Axes>"
      ]
     },
     "metadata": {
      "needs_background": "light"
     },
     "output_type": "display_data"
    }
   ],
   "source": [
    "plt.plot(X_test[0][0])"
   ]
  }
 ],
 "metadata": {
  "kernelspec": {
   "display_name": "Python 3",
   "language": "python",
   "name": "python3"
  },
  "language_info": {
   "codemirror_mode": {
    "name": "ipython",
    "version": 3
   },
   "file_extension": ".py",
   "mimetype": "text/x-python",
   "name": "python",
   "nbconvert_exporter": "python",
   "pygments_lexer": "ipython3",
   "version": "3.7.6"
  },
  "papermill": {
   "duration": 132.762143,
   "end_time": "2021-01-10T14:33:34.222667",
   "environment_variables": {},
   "exception": null,
   "input_path": "__notebook__.ipynb",
   "output_path": "__notebook__.ipynb",
   "parameters": {},
   "start_time": "2021-01-10T14:31:21.460524",
   "version": "2.1.0"
  }
 },
 "nbformat": 4,
 "nbformat_minor": 4
}
